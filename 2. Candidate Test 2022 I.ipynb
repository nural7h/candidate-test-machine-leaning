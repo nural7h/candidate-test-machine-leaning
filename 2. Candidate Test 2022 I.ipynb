{
 "cells": [
  {
   "cell_type": "markdown",
   "id": "278102b3",
   "metadata": {},
   "source": [
    "# Candidate Test 2022 Analysis Part 1\n",
    "\n",
    "This exercise focuses on the candidate tests from two television networks: DR and TV2. Data from both tests have been given on a scale of five responses (-2, -1, 0, 1, 2).\n",
    "\n",
    "---\n",
    "\n",
    "There are 6 datasets included in this exercise:\n",
    "\n",
    "- `alldata.xlsx`: Contains responses from both TV stations.\n",
    "- `drdata.xlsx`: Contains responses from DR.\n",
    "- `drq.xlsx`: Contains questions from DR.\n",
    "- `tv2data.xlsx`: Contains responses from TV2.\n",
    "- `tv2q.xlsx`: Contains questions from TV2.\n",
    "- `electeddata.xlsx`: Contains responses from both TV stations for candidates who were elected to the parliament. Note that 9 members are missing; 7 of them didn't take any of the tests. Additionally, some notable figures like Mette F. and Lars Løkke did not participate in any of the tests.\n",
    "\n",
    "---\n",
    "\n",
    "It's entirely up to you how you approach this data, but at a *minimum*, your analysis should include:\n",
    "- Age of the candidates grouped by parties.\n",
    "- An overview of the most \"confident\" candidates, i.e., those with the highest proportion of \"strongly agree\" or \"strongly disagree\" responses.\n",
    "- Differences in responses between candidates, both inter-party and intra-party, along with an explanation of which parties have the most internal disagreements.\n",
    "- Classification models to predict candidates' party affiliations. Investigate if there are any candidates who seem to be in the \"wrong\" party based on their political landscape positions. You must use the following  algorithms: **Decision Tree**, **Random Forest** and **Gradient Boosted Tree**, i.e. a total of 3 models are to be trained.\n",
    "\n",
    "---\n",
    "\n",
    "The following parties are represented:\n",
    "\n",
    "| Party letter | Party name | Party name (English) | Political position |\n",
    "| :-: | :-: | :-: | :-: |\n",
    "| A | Socialdemokratiet | Social Democrats | Centre-left |\n",
    "| V | Venstre | Danish Liberal Party | Centre-right |\n",
    "| M | Moderaterne | Moderates | Centre-right |\n",
    "| F | Socialistisk Folkeparti | Socialist People's Party | Left-wing |\n",
    "| D | Danmarksdemokraterne | Denmark Democrats | Right-wing |\n",
    "| I | Liberal Alliance | Liberal Alliance | Right-wing |\n",
    "| C | Konservative | Conservative People's Party | Right-wing |\n",
    "| Æ | Enhedslisten | Red-Green Alliance | Far-left |\n",
    "| B | Radikale Venstre | Social Liberal Party | Centre-left |\n",
    "| D | Nye Borgerlige | New Right | Far-right |\n",
    "| Z | Alternativet | The Alternative | Centre-left |\n",
    "| O | Dansk Folkeparti | Danish People's Party | Far-right |\n",
    "| G | Frie Grønne | Free Greens | Centre-left |\n",
    "| K | Kristendemokraterne | Christian Democrats | Centre-right |\n",
    "\n",
    "Below you can see the results and the colors chosen to represent the parties. Use these colors in your analysis above.\n",
    "\n",
    "![Alt text](image-1.png)\n",
    "\n",
    "\n",
    "Others have undertaken similar analyses. You can draw inspiration from the following (use Google tranlsate if your Danish is rusty):\n",
    "\n",
    "- [Analysis of where individual candidates stand relative to each other and their parties](https://v2022.dumdata.dk/)\n",
    "- [Candidate Test 2022 – A deep dive into the data](https://kwedel.github.io/kandidattest2022/)\n",
    "- [The Political Landscape 2019](https://kwedel.github.io/kandidattest2019/)\n",
    "\n"
   ]
  },
  {
   "cell_type": "code",
   "execution_count": null,
   "id": "ce36b188-e1e4-462f-b8df-6fa9eda22808",
   "metadata": {},
   "outputs": [],
   "source": [
    "# Age of the candidates grouped by parties\n",
    "\n",
    "import pandas as pd\n",
    "import matplotlib.pyplot as plt\n",
    "import seaborn as sns\n",
    "\n",
    "# Load the data\n",
    "all_data = pd.read_csv('alldata.csv')\n",
    "dr_data = pd.read_csv('drdata.csv')\n",
    "drq_data = pd.read_csv('drq.csv')\n",
    "elected_data = pd.read_csv('electeddata.csv')\n",
    "tv2_data = pd.read_csv('tv2data.csv')\n",
    "tv2q_data = pd.read_csv('tv2q.csv')\n",
    "\n",
    "analysis = all_data[['navn','parti', 'alder']]\n",
    "\n",
    "# Remove rows with missing values\n",
    "analysis = analysis.dropna()\n",
    "analysis = analysis[analysis['alder'] > 0]\n",
    "\n",
    "# Displaythe age of the candidates grouped by parties\n",
    "plt.figure(figsize=(12, 6))\n",
    "sns.boxplot(data=analysis, x='parti', y='alder', palette=\"Set2\")\n",
    "plt.xticks(rotation=90)\n",
    "plt.title(\"Age Distribution of Candidates by Party\")\n",
    "plt.xlabel(\"Parti\")\n",
    "plt.ylabel(\"Alder\")\n",
    "plt.show()\n"
   ]
  },
  {
   "cell_type": "code",
   "execution_count": null,
   "id": "0e06306b",
   "metadata": {},
   "outputs": [],
   "source": [
    "#An overview of the most \"confident\" candidates, i.e., those with the highest proportion of \"strongly agree\" or \"strongly disagree\" responses.\n",
    "\n",
    "confident_candidates = all_data\n",
    "confident_candidates = confident_candidates.drop(columns=['parti', 'alder', 'storkreds'])\n",
    "\n",
    "#for each row in the dataframe,count the -2 and 2 values and store them in a new dataframe with the name of the candidate\n",
    "confident_candidates['strongly_agree'] = (confident_candidates == 2).sum(axis=1) \n",
    "confident_candidates['strongly_disagree'] = (confident_candidates == -2).sum(axis=1) #axis 1 is for rows and axis 0 is for columns\n",
    "confident_candidates['total'] = confident_candidates['strongly_agree'] + confident_candidates['strongly_disagree']\n",
    "\n",
    "#create new data frame with only the name and the total of strongly agree and disagree\n",
    "confident_candidates_filtered = confident_candidates[['navn', 'strongly_agree', 'strongly_disagree','total']]\n",
    "\n",
    "confident_candidates_filtered = confident_candidates_filtered.sort_values(by='total', ascending=False)\n",
    "\n",
    "confident_candidates_filtered\n"
   ]
  },
  {
   "cell_type": "code",
   "execution_count": null,
   "id": "fe0ef280",
   "metadata": {},
   "outputs": [],
   "source": [
    "#Differences in responses between candidates, both inter-party and intra-party, along with an explanation of which parties have the most internal disagreements.\n",
    "import numpy as np\n",
    "\n",
    "\n",
    "# Drop non-numeric columns and the 'parti' column for intra-party analysis\n",
    "numeric_columns = all_data.drop(columns=['navn', 'parti', 'alder', 'storkreds'])\n",
    "\n",
    "# Calculating intra-party differences (standard deviation within each party)\n",
    "intra_std = numeric_columns.groupby(all_data['parti']).std()\n",
    "intra_var = (intra_std**2).mean(axis=1)\n",
    "intra_std_overall = np.sqrt(intra_var)\n",
    "intra_std['mean_overall_std'] = intra_std_overall\n",
    "\n",
    "print(\"Intra-party overall standard deviations:\")\n",
    "print(intra_std[['mean_overall_std']])\n",
    "\n",
    "#plot the intra-party differences\n",
    "plt.figure(figsize=(12, 6))\n",
    "intra_std['mean_overall_std'].plot(kind='bar', title='Intra-party Differences in Responses')\n",
    "plt.xlabel(\"Parti\")\n",
    "plt.ylabel(\"Standard Deviation\")\n",
    "plt.show()\n"
   ]
  },
  {
   "cell_type": "markdown",
   "id": "81cb90b0",
   "metadata": {},
   "source": [
    "Which parties have the most internal disagreements?\n",
    "\n",
    "The parties with the most internal disagreements are the parties with the highest standard deviation in their responses. The standard deviation is a measure of the amount of variation or dispersion of a set of values. The higher the standard deviation, the more spread out the values are. In this case, the parties with the highest standard deviation are the parties with the most internal disagreements."
   ]
  },
  {
   "cell_type": "code",
   "execution_count": null,
   "id": "afc8e732",
   "metadata": {},
   "outputs": [],
   "source": [
    "# Calculating inter-party differences (overall standard deviation across all candidates)\n",
    "inter_std = numeric_columns.std()\n",
    "\n",
    "print(\"Inter-party standard deviations:\")\n",
    "print(inter_std)\n",
    "\n",
    "#plot of the inter-party differences\n",
    "plt.figure(figsize=(12, 6))      \n",
    "inter_std.plot(kind='bar', title='Inter-party Differences in Responses')\n",
    "plt.xlabel(\"Statement\")\n",
    "plt.ylabel(\"Standard Deviation\")\n",
    "plt.show()"
   ]
  },
  {
   "cell_type": "markdown",
   "id": "e889eecb",
   "metadata": {},
   "source": [
    "Classification models to predict candidates' party affiliations. Investigate if there are any candidates who seem to be in the \"wrong\" party based on their political landscape positions. You must use the following  algorithms: **Decision Tree**, **Random Forest** and **Gradient Boosted Tree**, i.e. a total of 3 models are to be trained."
   ]
  },
  {
   "cell_type": "code",
   "execution_count": null,
   "id": "6e3266d2",
   "metadata": {},
   "outputs": [],
   "source": [
    "from sklearn.model_selection import train_test_split\n",
    "from sklearn.tree import DecisionTreeClassifier\n",
    "from sklearn.ensemble import RandomForestClassifier, GradientBoostingClassifier\n",
    "from sklearn.metrics import classification_report\n",
    "\n",
    "# Prepare the data\n",
    "X = numeric_columns  # Features\n",
    "y = all_data['parti']  # Target variable\n",
    "\n",
    "# Split the data into training and testing sets\n",
    "X_train, X_test, y_train, y_test = train_test_split(X, y, test_size=0.3, random_state=42)"
   ]
  },
  {
   "cell_type": "code",
   "execution_count": null,
   "id": "3be81b09",
   "metadata": {},
   "outputs": [],
   "source": [
    "# Decision Tree \n",
    "dt_model = DecisionTreeClassifier(random_state=42)\n",
    "dt_model.fit(X_train, y_train)\n",
    "dt_predictions = dt_model.predict(X_test)\n",
    "print(\"Decision Tree Classifier Report:\")\n",
    "print(classification_report(y_test, dt_predictions, zero_division=0))"
   ]
  },
  {
   "cell_type": "code",
   "execution_count": null,
   "id": "47324e0f",
   "metadata": {},
   "outputs": [],
   "source": [
    "# Random Forest \n",
    "rf_model = RandomForestClassifier(random_state=42, n_estimators=100)\n",
    "rf_model.fit(X_train, y_train)\n",
    "rf_predictions = rf_model.predict(X_test)\n",
    "print(\"Random Forest Classifier Report:\")\n",
    "print(classification_report(y_test, rf_predictions))"
   ]
  },
  {
   "cell_type": "code",
   "execution_count": null,
   "id": "f8dfa9cd",
   "metadata": {},
   "outputs": [],
   "source": [
    "# Gradient Boosted Tree \n",
    "gb_model = GradientBoostingClassifier(random_state=42, n_estimators=100)\n",
    "gb_model.fit(X_train, y_train)\n",
    "gb_predictions = gb_model.predict(X_test)\n",
    "print(\"Gradient Boosted Tree Classifier Report:\")\n",
    "print(classification_report(y_test, gb_predictions))"
   ]
  },
  {
   "cell_type": "code",
   "execution_count": null,
   "id": "283f1ace",
   "metadata": {},
   "outputs": [],
   "source": [
    "# Identifying candidates who seem to be in the \"wrong\" party for gradient boosted tree predictions\n",
    "\n",
    "# Creating a DataFrame for misclassified candidates\n",
    "wrong_party_candidates = X_test[y_test != gb_predictions].copy()\n",
    "\n",
    "# Adding actual and predicted party columns\n",
    "wrong_party_candidates['actual_party'] = y_test[y_test != gb_predictions]\n",
    "wrong_party_candidates['predicted_party'] = gb_predictions[y_test != gb_predictions]\n",
    "\n",
    "# Adding candidate names from the original dataset\n",
    "wrong_party_candidates['navn'] = all_data.loc[wrong_party_candidates.index, 'navn']\n",
    "\n",
    "print(\"Candidates who seem to be in the 'wrong' party:\")\n",
    "display(wrong_party_candidates[['navn', 'actual_party','predicted_party']])"
   ]
  },
  {
   "cell_type": "code",
   "execution_count": null,
   "id": "2a68b0fb",
   "metadata": {},
   "outputs": [],
   "source": [
    "# Identifying candidates who seem to be in the \"wrong\" party for random forest predictions\n",
    "\n",
    "# Creating a DataFrame for misclassified candidates\n",
    "wrong_party_rf_candidates = X_test[y_test != rf_predictions].copy()\n",
    "\n",
    "# Adding actual and predicted party columns\n",
    "wrong_party_rf_candidates['actual_party'] = y_test[y_test != rf_predictions]\n",
    "wrong_party_rf_candidates['predicted_party'] = rf_predictions[y_test != rf_predictions]\n",
    "\n",
    "# Adding candidate names from the original dataset\n",
    "wrong_party_rf_candidates['navn'] = all_data.loc[wrong_party_rf_candidates.index, 'navn']\n",
    "\n",
    "print(\"Candidates who seem to be in the 'wrong' party (Random Forest):\")\n",
    "display(wrong_party_rf_candidates[['navn', 'actual_party', 'predicted_party']])"
   ]
  },
  {
   "cell_type": "code",
   "execution_count": null,
   "id": "c5616542",
   "metadata": {},
   "outputs": [],
   "source": [
    "#Identifying candidates who seem to be in the \"wrong\" party with consufion matrix\n",
    "from sklearn.metrics import confusion_matrix, ConfusionMatrixDisplay\n",
    "\n",
    "cm = confusion_matrix(y_test, rf_predictions, labels=gb_model.classes_)\n",
    "\n",
    "disp = ConfusionMatrixDisplay(confusion_matrix=cm, display_labels=gb_model.classes_)\n",
    "disp.plot(xticks_rotation=90, cmap='viridis')\n",
    "plt.title(\"Confusion Matrix for Gradient Boosted Tree Classifier\")\n",
    "plt.show()"
   ]
  }
 ],
 "metadata": {
  "kernelspec": {
   "display_name": "Python 3",
   "language": "python",
   "name": "python3"
  },
  "language_info": {
   "codemirror_mode": {
    "name": "ipython",
    "version": 3
   },
   "file_extension": ".py",
   "mimetype": "text/x-python",
   "name": "python",
   "nbconvert_exporter": "python",
   "pygments_lexer": "ipython3",
   "version": "3.12.1"
  }
 },
 "nbformat": 4,
 "nbformat_minor": 5
}
